{
 "cells": [
  {
   "cell_type": "code",
   "execution_count": 2,
   "metadata": {},
   "outputs": [
    {
     "name": "stdout",
     "output_type": "stream",
     "text": [
      "ok\n"
     ]
    }
   ],
   "source": [
    "print(\"ok\")"
   ]
  },
  {
   "cell_type": "code",
   "execution_count": 3,
   "metadata": {},
   "outputs": [
    {
     "data": {
      "text/plain": [
       "'d:\\\\chatbot\\\\medicalchatbot\\\\research'"
      ]
     },
     "execution_count": 3,
     "metadata": {},
     "output_type": "execute_result"
    }
   ],
   "source": [
    "%pwd"
   ]
  },
  {
   "cell_type": "code",
   "execution_count": 4,
   "metadata": {},
   "outputs": [],
   "source": [
    "import os\n",
    "os.chdir(\"../\")"
   ]
  },
  {
   "cell_type": "code",
   "execution_count": 5,
   "metadata": {},
   "outputs": [
    {
     "data": {
      "text/plain": [
       "'d:\\\\chatbot\\\\medicalchatbot'"
      ]
     },
     "execution_count": 5,
     "metadata": {},
     "output_type": "execute_result"
    }
   ],
   "source": [
    "%pwd"
   ]
  },
  {
   "cell_type": "code",
   "execution_count": 17,
   "metadata": {},
   "outputs": [],
   "source": [
    "from langchain_community.document_loaders import PyPDFLoader, DirectoryLoader\n",
    "from langchain.text_splitter import RecursiveCharacterTextSplitter\n"
   ]
  },
  {
   "cell_type": "code",
   "execution_count": 20,
   "metadata": {},
   "outputs": [],
   "source": [
    "def load_pdf_file(data):\n",
    "    loader=DirectoryLoader(data,\n",
    "                           glob=\"*.pdf\",\n",
    "                           loader_cls=PyPDFLoader)\n",
    "    documents=loader.load()\n",
    "    return documents"
   ]
  },
  {
   "cell_type": "code",
   "execution_count": 22,
   "metadata": {},
   "outputs": [],
   "source": [
    "extracted_data=load_pdf_file(data='Data/')"
   ]
  },
  {
   "cell_type": "code",
   "execution_count": 24,
   "metadata": {},
   "outputs": [],
   "source": [
    "from langchain.text_splitter import RecursiveCharacterTextSplitter\n"
   ]
  },
  {
   "cell_type": "code",
   "execution_count": 26,
   "metadata": {},
   "outputs": [
    {
     "name": "stdout",
     "output_type": "stream",
     "text": [
      "Length of Text Chunks: 2345\n"
     ]
    }
   ],
   "source": [
    "def text_split(extracted_data):\n",
    "    text_splitter = RecursiveCharacterTextSplitter(chunk_size=500, chunk_overlap=20)\n",
    "    text_chunks = text_splitter.split_documents(extracted_data)\n",
    "    return text_chunks\n",
    "\n",
    "text_chunks = text_split(extracted_data)\n",
    "print(\"Length of Text Chunks:\", len(text_chunks))"
   ]
  },
  {
   "cell_type": "code",
   "execution_count": 27,
   "metadata": {},
   "outputs": [],
   "source": [
    "from langchain.embeddings import HuggingFaceBgeEmbeddings"
   ]
  },
  {
   "cell_type": "code",
   "execution_count": 28,
   "metadata": {},
   "outputs": [],
   "source": [
    "def download_hugging_face_embeddings():\n",
    "    embeddings=HuggingFaceBgeEmbeddings(model_name='sentence-transformers/all-MiniLM-L6-v2')\n",
    "    return embeddings"
   ]
  },
  {
   "cell_type": "code",
   "execution_count": 31,
   "metadata": {},
   "outputs": [
    {
     "name": "stderr",
     "output_type": "stream",
     "text": [
      "d:\\chatbot\\medicalchatbot\\medibot\\Lib\\site-packages\\tqdm\\auto.py:21: TqdmWarning: IProgress not found. Please update jupyter and ipywidgets. See https://ipywidgets.readthedocs.io/en/stable/user_install.html\n",
      "  from .autonotebook import tqdm as notebook_tqdm\n",
      "d:\\chatbot\\medicalchatbot\\medibot\\Lib\\site-packages\\huggingface_hub\\file_download.py:140: UserWarning: `huggingface_hub` cache-system uses symlinks by default to efficiently store duplicated files but your machine does not support them in C:\\Users\\gaswi\\.cache\\huggingface\\hub\\models--sentence-transformers--all-MiniLM-L6-v2. Caching files will still work but in a degraded version that might require more space on your disk. This warning can be disabled by setting the `HF_HUB_DISABLE_SYMLINKS_WARNING` environment variable. For more details, see https://huggingface.co/docs/huggingface_hub/how-to-cache#limitations.\n",
      "To support symlinks on Windows, you either need to activate Developer Mode or to run Python as an administrator. In order to activate developer mode, see this article: https://docs.microsoft.com/en-us/windows/apps/get-started/enable-your-device-for-development\n",
      "  warnings.warn(message)\n"
     ]
    }
   ],
   "source": [
    "embeddings=download_hugging_face_embeddings()"
   ]
  },
  {
   "cell_type": "code",
   "execution_count": 32,
   "metadata": {},
   "outputs": [
    {
     "name": "stdout",
     "output_type": "stream",
     "text": [
      "Length 384\n"
     ]
    }
   ],
   "source": [
    "query_result=embeddings.embed_query(\"hello world\")\n",
    "print(\"Length\",len(query_result))"
   ]
  },
  {
   "cell_type": "code",
   "execution_count": 33,
   "metadata": {},
   "outputs": [
    {
     "data": {
      "text/plain": [
       "True"
      ]
     },
     "execution_count": 33,
     "metadata": {},
     "output_type": "execute_result"
    }
   ],
   "source": [
    "from dotenv import load_dotenv\n",
    "load_dotenv()"
   ]
  },
  {
   "cell_type": "code",
   "execution_count": 53,
   "metadata": {},
   "outputs": [],
   "source": [
    "import os\n",
    "PINE_API_KEY=os.environ.get('PINE_API_KEY')"
   ]
  },
  {
   "cell_type": "code",
   "execution_count": 38,
   "metadata": {},
   "outputs": [
    {
     "data": {
      "text/plain": [
       "{\n",
       "    \"name\": \"medibot\",\n",
       "    \"metric\": \"cosine\",\n",
       "    \"host\": \"medibot-tii23h0.svc.aped-4627-b74a.pinecone.io\",\n",
       "    \"spec\": {\n",
       "        \"serverless\": {\n",
       "            \"cloud\": \"aws\",\n",
       "            \"region\": \"us-east-1\"\n",
       "        }\n",
       "    },\n",
       "    \"status\": {\n",
       "        \"ready\": true,\n",
       "        \"state\": \"Ready\"\n",
       "    },\n",
       "    \"vector_type\": \"dense\",\n",
       "    \"dimension\": 384,\n",
       "    \"deletion_protection\": \"disabled\",\n",
       "    \"tags\": null\n",
       "}"
      ]
     },
     "execution_count": 38,
     "metadata": {},
     "output_type": "execute_result"
    }
   ],
   "source": [
    "from pinecone import Pinecone, ServerlessSpec\n",
    "import os\n",
    "\n",
    "PINE_API_KEY = os.getenv(\"PINE_API_KEY\")  # Ensure the key is set\n",
    "if not PINE_API_KEY:\n",
    "    raise ValueError(\"PINE_API_KEY is not set.\")\n",
    "\n",
    "pc = Pinecone(api_key=PINE_API_KEY)\n",
    "index_name = \"medibot\"\n",
    "\n",
    "pc.create_index(\n",
    "    name=index_name,\n",
    "    dimension=384,\n",
    "    metric=\"cosine\",  # Corrected 'metrics' to 'metric'\n",
    "    spec=ServerlessSpec(\n",
    "        cloud=\"aws\",\n",
    "        region=\"us-east-1\"\n",
    "    )\n",
    ")\n"
   ]
  },
  {
   "cell_type": "code",
   "execution_count": 63,
   "metadata": {},
   "outputs": [],
   "source": [
    "import os \n",
    "os.environ[\"PINE_API_KEY\"]=PINE_API_KEY"
   ]
  },
  {
   "cell_type": "code",
   "execution_count": 67,
   "metadata": {},
   "outputs": [
    {
     "ename": "PineconeConfigurationError",
     "evalue": "You haven't specified an API key. Please either set the PINECONE_API_KEY environment variable or pass the 'api_key' keyword argument to the Pinecone client constructor.",
     "output_type": "error",
     "traceback": [
      "\u001b[1;31m---------------------------------------------------------------------------\u001b[0m",
      "\u001b[1;31mPineconeConfigurationError\u001b[0m                Traceback (most recent call last)",
      "Cell \u001b[1;32mIn[67], line 11\u001b[0m\n\u001b[0;32m      8\u001b[0m api_key\u001b[38;5;241m=\u001b[39mPINE_API_KEY\n\u001b[0;32m      9\u001b[0m pc \u001b[38;5;241m=\u001b[39m Pinecone(api_key\u001b[38;5;241m=\u001b[39mapi_key)\n\u001b[1;32m---> 11\u001b[0m docsearch \u001b[38;5;241m=\u001b[39m \u001b[43mPineconeVectorStore\u001b[49m\u001b[38;5;241;43m.\u001b[39;49m\u001b[43mfrom_documents\u001b[49m\u001b[43m(\u001b[49m\n\u001b[0;32m     12\u001b[0m \u001b[43m    \u001b[49m\u001b[43mdocuments\u001b[49m\u001b[38;5;241;43m=\u001b[39;49m\u001b[43mtext_chunks\u001b[49m\u001b[43m,\u001b[49m\n\u001b[0;32m     13\u001b[0m \u001b[43m    \u001b[49m\u001b[43mindex_name\u001b[49m\u001b[38;5;241;43m=\u001b[39;49m\u001b[43mindex_name\u001b[49m\u001b[43m,\u001b[49m\n\u001b[0;32m     14\u001b[0m \u001b[43m    \u001b[49m\u001b[43membedding\u001b[49m\u001b[38;5;241;43m=\u001b[39;49m\u001b[43membeddings\u001b[49m\u001b[43m,\u001b[49m\n\u001b[0;32m     15\u001b[0m \u001b[43m    \u001b[49m\u001b[43mapi_key\u001b[49m\u001b[38;5;241;43m=\u001b[39;49m\u001b[43mapi_key\u001b[49m\u001b[43m,\u001b[49m\n\u001b[0;32m     16\u001b[0m \u001b[43m)\u001b[49m\n",
      "File \u001b[1;32md:\\chatbot\\medicalchatbot\\medibot\\Lib\\site-packages\\langchain_core\\vectorstores\\base.py:843\u001b[0m, in \u001b[0;36mVectorStore.from_documents\u001b[1;34m(cls, documents, embedding, **kwargs)\u001b[0m\n\u001b[0;32m    840\u001b[0m     \u001b[38;5;28;01mif\u001b[39;00m \u001b[38;5;28many\u001b[39m(ids):\n\u001b[0;32m    841\u001b[0m         kwargs[\u001b[38;5;124m\"\u001b[39m\u001b[38;5;124mids\u001b[39m\u001b[38;5;124m\"\u001b[39m] \u001b[38;5;241m=\u001b[39m ids\n\u001b[1;32m--> 843\u001b[0m \u001b[38;5;28;01mreturn\u001b[39;00m \u001b[38;5;28;43mcls\u001b[39;49m\u001b[38;5;241;43m.\u001b[39;49m\u001b[43mfrom_texts\u001b[49m\u001b[43m(\u001b[49m\u001b[43mtexts\u001b[49m\u001b[43m,\u001b[49m\u001b[43m \u001b[49m\u001b[43membedding\u001b[49m\u001b[43m,\u001b[49m\u001b[43m \u001b[49m\u001b[43mmetadatas\u001b[49m\u001b[38;5;241;43m=\u001b[39;49m\u001b[43mmetadatas\u001b[49m\u001b[43m,\u001b[49m\u001b[43m \u001b[49m\u001b[38;5;241;43m*\u001b[39;49m\u001b[38;5;241;43m*\u001b[39;49m\u001b[43mkwargs\u001b[49m\u001b[43m)\u001b[49m\n",
      "File \u001b[1;32md:\\chatbot\\medicalchatbot\\medibot\\Lib\\site-packages\\langchain_pinecone\\vectorstores.py:581\u001b[0m, in \u001b[0;36mPineconeVectorStore.from_texts\u001b[1;34m(cls, texts, embedding, metadatas, ids, batch_size, text_key, namespace, index_name, upsert_kwargs, pool_threads, embeddings_chunk_size, async_req, id_prefix, **kwargs)\u001b[0m\n\u001b[0;32m    535\u001b[0m \u001b[38;5;129m@classmethod\u001b[39m\n\u001b[0;32m    536\u001b[0m \u001b[38;5;28;01mdef\u001b[39;00m\u001b[38;5;250m \u001b[39m\u001b[38;5;21mfrom_texts\u001b[39m(\n\u001b[0;32m    537\u001b[0m     \u001b[38;5;28mcls\u001b[39m,\n\u001b[1;32m   (...)\u001b[0m\n\u001b[0;32m    552\u001b[0m     \u001b[38;5;241m*\u001b[39m\u001b[38;5;241m*\u001b[39mkwargs: Any,\n\u001b[0;32m    553\u001b[0m ) \u001b[38;5;241m-\u001b[39m\u001b[38;5;241m>\u001b[39m PineconeVectorStore:\n\u001b[0;32m    554\u001b[0m \u001b[38;5;250m    \u001b[39m\u001b[38;5;124;03m\"\"\"Construct Pinecone wrapper from raw documents.\u001b[39;00m\n\u001b[0;32m    555\u001b[0m \n\u001b[0;32m    556\u001b[0m \u001b[38;5;124;03m    This is a user-friendly interface that:\u001b[39;00m\n\u001b[1;32m   (...)\u001b[0m\n\u001b[0;32m    579\u001b[0m \u001b[38;5;124;03m            )\u001b[39;00m\n\u001b[0;32m    580\u001b[0m \u001b[38;5;124;03m    \"\"\"\u001b[39;00m\n\u001b[1;32m--> 581\u001b[0m     pinecone_index \u001b[38;5;241m=\u001b[39m \u001b[38;5;28;43mcls\u001b[39;49m\u001b[38;5;241;43m.\u001b[39;49m\u001b[43mget_pinecone_index\u001b[49m\u001b[43m(\u001b[49m\u001b[43mindex_name\u001b[49m\u001b[43m,\u001b[49m\u001b[43m \u001b[49m\u001b[43mpool_threads\u001b[49m\u001b[43m)\u001b[49m\n\u001b[0;32m    582\u001b[0m     pinecone \u001b[38;5;241m=\u001b[39m \u001b[38;5;28mcls\u001b[39m(pinecone_index, embedding, text_key, namespace, \u001b[38;5;241m*\u001b[39m\u001b[38;5;241m*\u001b[39mkwargs)\n\u001b[0;32m    584\u001b[0m     pinecone\u001b[38;5;241m.\u001b[39madd_texts(\n\u001b[0;32m    585\u001b[0m         texts,\n\u001b[0;32m    586\u001b[0m         metadatas\u001b[38;5;241m=\u001b[39mmetadatas,\n\u001b[1;32m   (...)\u001b[0m\n\u001b[0;32m    593\u001b[0m         \u001b[38;5;241m*\u001b[39m\u001b[38;5;241m*\u001b[39m(upsert_kwargs \u001b[38;5;129;01mor\u001b[39;00m {}),\n\u001b[0;32m    594\u001b[0m     )\n",
      "File \u001b[1;32md:\\chatbot\\medicalchatbot\\medibot\\Lib\\site-packages\\langchain_pinecone\\vectorstores.py:514\u001b[0m, in \u001b[0;36mPineconeVectorStore.get_pinecone_index\u001b[1;34m(cls, index_name, pool_threads, pinecone_api_key)\u001b[0m\n\u001b[0;32m    505\u001b[0m \u001b[38;5;250m\u001b[39m\u001b[38;5;124;03m\"\"\"Return a Pinecone Index instance.\u001b[39;00m\n\u001b[0;32m    506\u001b[0m \n\u001b[0;32m    507\u001b[0m \u001b[38;5;124;03mArgs:\u001b[39;00m\n\u001b[1;32m   (...)\u001b[0m\n\u001b[0;32m    511\u001b[0m \u001b[38;5;124;03mReturns:\u001b[39;00m\n\u001b[0;32m    512\u001b[0m \u001b[38;5;124;03m    Pinecone Index instance.\"\"\"\u001b[39;00m\n\u001b[0;32m    513\u001b[0m _pinecone_api_key \u001b[38;5;241m=\u001b[39m pinecone_api_key \u001b[38;5;129;01mor\u001b[39;00m os\u001b[38;5;241m.\u001b[39menviron\u001b[38;5;241m.\u001b[39mget(\u001b[38;5;124m\"\u001b[39m\u001b[38;5;124mPINECONE_API_KEY\u001b[39m\u001b[38;5;124m\"\u001b[39m) \u001b[38;5;129;01mor\u001b[39;00m \u001b[38;5;124m\"\u001b[39m\u001b[38;5;124m\"\u001b[39m\n\u001b[1;32m--> 514\u001b[0m client \u001b[38;5;241m=\u001b[39m \u001b[43mPineconeClient\u001b[49m\u001b[43m(\u001b[49m\n\u001b[0;32m    515\u001b[0m \u001b[43m    \u001b[49m\u001b[43mapi_key\u001b[49m\u001b[38;5;241;43m=\u001b[39;49m\u001b[43m_pinecone_api_key\u001b[49m\u001b[43m,\u001b[49m\u001b[43m \u001b[49m\u001b[43mpool_threads\u001b[49m\u001b[38;5;241;43m=\u001b[39;49m\u001b[43mpool_threads\u001b[49m\u001b[43m,\u001b[49m\u001b[43m \u001b[49m\u001b[43msource_tag\u001b[49m\u001b[38;5;241;43m=\u001b[39;49m\u001b[38;5;124;43m\"\u001b[39;49m\u001b[38;5;124;43mlangchain\u001b[39;49m\u001b[38;5;124;43m\"\u001b[39;49m\n\u001b[0;32m    516\u001b[0m \u001b[43m\u001b[49m\u001b[43m)\u001b[49m\n\u001b[0;32m    517\u001b[0m indexes \u001b[38;5;241m=\u001b[39m client\u001b[38;5;241m.\u001b[39mlist_indexes()\n\u001b[0;32m    518\u001b[0m index_names \u001b[38;5;241m=\u001b[39m [i\u001b[38;5;241m.\u001b[39mname \u001b[38;5;28;01mfor\u001b[39;00m i \u001b[38;5;129;01min\u001b[39;00m indexes\u001b[38;5;241m.\u001b[39mindex_list[\u001b[38;5;124m\"\u001b[39m\u001b[38;5;124mindexes\u001b[39m\u001b[38;5;124m\"\u001b[39m]]\n",
      "File \u001b[1;32md:\\chatbot\\medicalchatbot\\medibot\\Lib\\site-packages\\pinecone\\control\\pinecone.py:72\u001b[0m, in \u001b[0;36m__init__\u001b[1;34m(self, api_key, host, proxy_url, proxy_headers, ssl_ca_certs, ssl_verify, additional_headers, pool_threads, **kwargs)\u001b[0m\n\u001b[0;32m     38\u001b[0m \u001b[38;5;28;01mdef\u001b[39;00m\u001b[38;5;250m \u001b[39m\u001b[38;5;21m__init__\u001b[39m(\n\u001b[0;32m     39\u001b[0m     \u001b[38;5;28mself\u001b[39m,\n\u001b[0;32m     40\u001b[0m     api_key: Optional[\u001b[38;5;28mstr\u001b[39m] \u001b[38;5;241m=\u001b[39m \u001b[38;5;28;01mNone\u001b[39;00m,\n\u001b[1;32m   (...)\u001b[0m\n\u001b[0;32m     50\u001b[0m     \u001b[38;5;241m*\u001b[39m\u001b[38;5;241m*\u001b[39mkwargs,\n\u001b[0;32m     51\u001b[0m ):\n\u001b[0;32m     52\u001b[0m \u001b[38;5;250m    \u001b[39m\u001b[38;5;124;03m\"\"\"\u001b[39;00m\n\u001b[0;32m     53\u001b[0m \u001b[38;5;124;03m    The `Pinecone` class is the main entry point for interacting with Pinecone via this Python SDK.\u001b[39;00m\n\u001b[0;32m     54\u001b[0m \u001b[38;5;124;03m    It is used to create, delete, and manage your indexes and collections.\u001b[39;00m\n\u001b[0;32m     55\u001b[0m \n\u001b[0;32m     56\u001b[0m \u001b[38;5;124;03m    :param api_key: The API key to use for authentication. If not passed via kwarg, the API key will be read from the environment variable `PINECONE_API_KEY`.\u001b[39;00m\n\u001b[0;32m     57\u001b[0m \u001b[38;5;124;03m    :type api_key: str, optional\u001b[39;00m\n\u001b[0;32m     58\u001b[0m \u001b[38;5;124;03m    :param host: The control plane host to connect to.\u001b[39;00m\n\u001b[0;32m     59\u001b[0m \u001b[38;5;124;03m    :type host: str, optional\u001b[39;00m\n\u001b[0;32m     60\u001b[0m \u001b[38;5;124;03m    :param proxy_url: The URL of the proxy to use for the connection. Default: `None`\u001b[39;00m\n\u001b[0;32m     61\u001b[0m \u001b[38;5;124;03m    :type proxy_url: str, optional\u001b[39;00m\n\u001b[0;32m     62\u001b[0m \u001b[38;5;124;03m    :param proxy_headers: Additional headers to pass to the proxy. Use this if your proxy setup requires authentication. Default: `{}`\u001b[39;00m\n\u001b[0;32m     63\u001b[0m \u001b[38;5;124;03m    :type proxy_headers: Dict[str, str], optional\u001b[39;00m\n\u001b[0;32m     64\u001b[0m \u001b[38;5;124;03m    :param ssl_ca_certs: The path to the SSL CA certificate bundle to use for the connection. This path should point to a file in PEM format. Default: `None`\u001b[39;00m\n\u001b[0;32m     65\u001b[0m \u001b[38;5;124;03m    :type ssl_ca_certs: str, optional\u001b[39;00m\n\u001b[0;32m     66\u001b[0m \u001b[38;5;124;03m    :param ssl_verify: SSL verification is performed by default, but can be disabled using the boolean flag. Default: `True`\u001b[39;00m\n\u001b[0;32m     67\u001b[0m \u001b[38;5;124;03m    :type ssl_verify: bool, optional\u001b[39;00m\n\u001b[0;32m     68\u001b[0m \u001b[38;5;124;03m    :param config: A `pinecone.config.Config` object. If passed, the `api_key` and `host` parameters will be ignored.\u001b[39;00m\n\u001b[0;32m     69\u001b[0m \u001b[38;5;124;03m    :type config: pinecone.config.Config, optional\u001b[39;00m\n\u001b[0;32m     70\u001b[0m \u001b[38;5;124;03m    :param additional_headers: Additional headers to pass to the API. Default: `{}`\u001b[39;00m\n\u001b[0;32m     71\u001b[0m \u001b[38;5;124;03m    :type additional_headers: Dict[str, str], optional\u001b[39;00m\n\u001b[1;32m---> 72\u001b[0m \u001b[38;5;124;03m    :param pool_threads: The number of threads to use for the connection pool. Default: `1`\u001b[39;00m\n\u001b[0;32m     73\u001b[0m \u001b[38;5;124;03m    :type pool_threads: int, optional\u001b[39;00m\n\u001b[0;32m     74\u001b[0m \u001b[38;5;124;03m    :param index_api: An instance of `pinecone.core.client.api.manage_indexes_api.ManageIndexesApi`. If passed, the `host` parameter will be ignored.\u001b[39;00m\n\u001b[0;32m     75\u001b[0m \u001b[38;5;124;03m    :type index_api: pinecone.core.client.api.manage_indexes_api.ManageIndexesApi, optional\u001b[39;00m\n\u001b[0;32m     76\u001b[0m \n\u001b[0;32m     77\u001b[0m \n\u001b[0;32m     78\u001b[0m \u001b[38;5;124;03m    ### Configuration with environment variables\u001b[39;00m\n\u001b[0;32m     79\u001b[0m \n\u001b[0;32m     80\u001b[0m \u001b[38;5;124;03m    If you instantiate the Pinecone client with no arguments, it will attempt to read the API key from the environment variable `PINECONE_API_KEY`.\u001b[39;00m\n\u001b[0;32m     81\u001b[0m \n\u001b[0;32m     82\u001b[0m \u001b[38;5;124;03m    ```python\u001b[39;00m\n\u001b[0;32m     83\u001b[0m \u001b[38;5;124;03m    from pinecone import Pinecone\u001b[39;00m\n\u001b[0;32m     84\u001b[0m \n\u001b[0;32m     85\u001b[0m \u001b[38;5;124;03m    pc = Pinecone()\u001b[39;00m\n\u001b[0;32m     86\u001b[0m \u001b[38;5;124;03m    ```\u001b[39;00m\n\u001b[0;32m     87\u001b[0m \n\u001b[0;32m     88\u001b[0m \u001b[38;5;124;03m    ### Configuration with keyword arguments\u001b[39;00m\n\u001b[0;32m     89\u001b[0m \n\u001b[0;32m     90\u001b[0m \u001b[38;5;124;03m    If you prefer being more explicit in your code, you can also pass the API  as a keyword argument.\u001b[39;00m\n\u001b[0;32m     91\u001b[0m \n\u001b[0;32m     92\u001b[0m \u001b[38;5;124;03m    ```python\u001b[39;00m\n\u001b[0;32m     93\u001b[0m \u001b[38;5;124;03m    import os\u001b[39;00m\n\u001b[0;32m     94\u001b[0m \u001b[38;5;124;03m    from pinecone import Pinecone\u001b[39;00m\n\u001b[0;32m     95\u001b[0m \n\u001b[0;32m     96\u001b[0m \u001b[38;5;124;03m    pc = Pinecone(api_key=os.environ.get(\"PINECONE_API_KEY\"))\u001b[39;00m\n\u001b[0;32m     97\u001b[0m \u001b[38;5;124;03m    ```\u001b[39;00m\n\u001b[0;32m     98\u001b[0m \n\u001b[0;32m     99\u001b[0m \u001b[38;5;124;03m    ### Environment variables\u001b[39;00m\n\u001b[0;32m    100\u001b[0m \n\u001b[0;32m    101\u001b[0m \u001b[38;5;124;03m    The Pinecone client supports the following environment variables:\u001b[39;00m\n\u001b[0;32m    102\u001b[0m \n\u001b[0;32m    103\u001b[0m \u001b[38;5;124;03m    - `PINECONE_API_KEY`: The API key to use for authentication. If not passed via\u001b[39;00m\n\u001b[0;32m    104\u001b[0m \u001b[38;5;124;03m    kwarg, the API key will be read from the environment variable `PINECONE_API_KEY`.\u001b[39;00m\n\u001b[0;32m    105\u001b[0m \n\u001b[0;32m    106\u001b[0m \u001b[38;5;124;03m    - `PINECONE_DEBUG_CURL`: When troubleshooting it can be very useful to run curl\u001b[39;00m\n\u001b[0;32m    107\u001b[0m \u001b[38;5;124;03m    commands against the control plane API to see exactly what data is being sent\u001b[39;00m\n\u001b[0;32m    108\u001b[0m \u001b[38;5;124;03m    and received without all the abstractions and transformations applied by the Python\u001b[39;00m\n\u001b[0;32m    109\u001b[0m \u001b[38;5;124;03m    SDK. If you set this environment variable to `true`, the Pinecone client will use\u001b[39;00m\n\u001b[0;32m    110\u001b[0m \u001b[38;5;124;03m    request parameters to print out an equivalent curl command that you can run yourself\u001b[39;00m\n\u001b[0;32m    111\u001b[0m \u001b[38;5;124;03m    or share with Pinecone support. **Be very careful with this option, as it will print out\u001b[39;00m\n\u001b[0;32m    112\u001b[0m \u001b[38;5;124;03m    your API key** which forms part of a required authentication header. Default: `false`\u001b[39;00m\n\u001b[0;32m    113\u001b[0m \n\u001b[0;32m    114\u001b[0m \u001b[38;5;124;03m    ### Proxy configuration\u001b[39;00m\n\u001b[0;32m    115\u001b[0m \n\u001b[0;32m    116\u001b[0m \u001b[38;5;124;03m    If your network setup requires you to interact with Pinecone via a proxy, you will need\u001b[39;00m\n\u001b[0;32m    117\u001b[0m \u001b[38;5;124;03m    to pass additional configuration using optional keyword parameters. These optional parameters\u001b[39;00m\n\u001b[0;32m    118\u001b[0m \u001b[38;5;124;03m    are forwarded to `urllib3`, which is the underlying library currently used by the Pinecone client to\u001b[39;00m\n\u001b[0;32m    119\u001b[0m \u001b[38;5;124;03m    make HTTP requests. You may find it helpful to refer to the\u001b[39;00m\n\u001b[0;32m    120\u001b[0m \u001b[38;5;124;03m    [urllib3 documentation on working with proxies](https://urllib3.readthedocs.io/en/stable/advanced-usage.html#http-and-https-proxies)\u001b[39;00m\n\u001b[0;32m    121\u001b[0m \u001b[38;5;124;03m    while troubleshooting these settings.\u001b[39;00m\n\u001b[0;32m    122\u001b[0m \n\u001b[0;32m    123\u001b[0m \u001b[38;5;124;03m    Here is a basic example:\u001b[39;00m\n\u001b[0;32m    124\u001b[0m \n\u001b[0;32m    125\u001b[0m \u001b[38;5;124;03m    ```python\u001b[39;00m\n\u001b[0;32m    126\u001b[0m \u001b[38;5;124;03m    from pinecone import Pinecone\u001b[39;00m\n\u001b[0;32m    127\u001b[0m \n\u001b[0;32m    128\u001b[0m \u001b[38;5;124;03m    pc = Pinecone(\u001b[39;00m\n\u001b[0;32m    129\u001b[0m \u001b[38;5;124;03m        api_key='YOUR_API_KEY',\u001b[39;00m\n\u001b[0;32m    130\u001b[0m \u001b[38;5;124;03m        proxy_url='https://your-proxy.com'\u001b[39;00m\n\u001b[0;32m    131\u001b[0m \u001b[38;5;124;03m    )\u001b[39;00m\n\u001b[0;32m    132\u001b[0m \n\u001b[0;32m    133\u001b[0m \u001b[38;5;124;03m    pc.list_indexes()\u001b[39;00m\n\u001b[0;32m    134\u001b[0m \u001b[38;5;124;03m    ```\u001b[39;00m\n\u001b[0;32m    135\u001b[0m \n\u001b[0;32m    136\u001b[0m \u001b[38;5;124;03m    If your proxy requires authentication, you can pass those values in a header dictionary using the `proxy_headers` parameter.\u001b[39;00m\n\u001b[0;32m    137\u001b[0m \n\u001b[0;32m    138\u001b[0m \u001b[38;5;124;03m    ```python\u001b[39;00m\n\u001b[0;32m    139\u001b[0m \u001b[38;5;124;03m    from pinecone import Pinecone\u001b[39;00m\n\u001b[0;32m    140\u001b[0m \u001b[38;5;124;03m    import urllib3 import make_headers\u001b[39;00m\n\u001b[0;32m    141\u001b[0m \n\u001b[0;32m    142\u001b[0m \u001b[38;5;124;03m    pc = Pinecone(\u001b[39;00m\n\u001b[0;32m    143\u001b[0m \u001b[38;5;124;03m        api_key='YOUR_API_KEY',\u001b[39;00m\n\u001b[0;32m    144\u001b[0m \u001b[38;5;124;03m        proxy_url='https://your-proxy.com',\u001b[39;00m\n\u001b[0;32m    145\u001b[0m \u001b[38;5;124;03m        proxy_headers=make_headers(proxy_basic_auth='username:password')\u001b[39;00m\n\u001b[0;32m    146\u001b[0m \u001b[38;5;124;03m    )\u001b[39;00m\n\u001b[0;32m    147\u001b[0m \n\u001b[0;32m    148\u001b[0m \u001b[38;5;124;03m    pc.list_indexes()\u001b[39;00m\n\u001b[0;32m    149\u001b[0m \u001b[38;5;124;03m    ```\u001b[39;00m\n\u001b[0;32m    150\u001b[0m \n\u001b[0;32m    151\u001b[0m \u001b[38;5;124;03m    ### Using proxies with self-signed certificates\u001b[39;00m\n\u001b[0;32m    152\u001b[0m \n\u001b[0;32m    153\u001b[0m \u001b[38;5;124;03m    By default the Pinecone Python client will perform SSL certificate verification\u001b[39;00m\n\u001b[0;32m    154\u001b[0m \u001b[38;5;124;03m    using the CA bundle maintained by Mozilla in the [certifi](https://pypi.org/project/certifi/) package.\u001b[39;00m\n\u001b[0;32m    155\u001b[0m \u001b[38;5;124;03m    If your proxy server is using a self-signed certificate, you will need to pass the path to the certificate\u001b[39;00m\n\u001b[0;32m    156\u001b[0m \u001b[38;5;124;03m    in PEM format using the `ssl_ca_certs` parameter.\u001b[39;00m\n\u001b[0;32m    157\u001b[0m \n\u001b[0;32m    158\u001b[0m \u001b[38;5;124;03m    ```python\u001b[39;00m\n\u001b[0;32m    159\u001b[0m \u001b[38;5;124;03m    from pinecone import Pinecone\u001b[39;00m\n\u001b[0;32m    160\u001b[0m \u001b[38;5;124;03m    import urllib3 import make_headers\u001b[39;00m\n\u001b[0;32m    161\u001b[0m \n\u001b[0;32m    162\u001b[0m \u001b[38;5;124;03m    pc = Pinecone(\u001b[39;00m\n\u001b[0;32m    163\u001b[0m \u001b[38;5;124;03m        api_key='YOUR_API_KEY',\u001b[39;00m\n\u001b[0;32m    164\u001b[0m \u001b[38;5;124;03m        proxy_url='https://your-proxy.com',\u001b[39;00m\n\u001b[0;32m    165\u001b[0m \u001b[38;5;124;03m        proxy_headers=make_headers(proxy_basic_auth='username:password'),\u001b[39;00m\n\u001b[0;32m    166\u001b[0m \u001b[38;5;124;03m        ssl_ca_certs='path/to/cert-bundle.pem'\u001b[39;00m\n\u001b[0;32m    167\u001b[0m \u001b[38;5;124;03m    )\u001b[39;00m\n\u001b[0;32m    168\u001b[0m \n\u001b[0;32m    169\u001b[0m \u001b[38;5;124;03m    pc.list_indexes()\u001b[39;00m\n\u001b[0;32m    170\u001b[0m \u001b[38;5;124;03m    ```\u001b[39;00m\n\u001b[0;32m    171\u001b[0m \n\u001b[0;32m    172\u001b[0m \u001b[38;5;124;03m    ### Disabling SSL verification\u001b[39;00m\n\u001b[0;32m    173\u001b[0m \n\u001b[0;32m    174\u001b[0m \u001b[38;5;124;03m    If you would like to disable SSL verification, you can pass the `ssl_verify`\u001b[39;00m\n\u001b[0;32m    175\u001b[0m \u001b[38;5;124;03m    parameter with a value of `False`. We do not recommend going to production with SSL verification disabled.\u001b[39;00m\n\u001b[0;32m    176\u001b[0m \n\u001b[0;32m    177\u001b[0m \u001b[38;5;124;03m    ```python\u001b[39;00m\n\u001b[0;32m    178\u001b[0m \u001b[38;5;124;03m    from pinecone import Pinecone\u001b[39;00m\n\u001b[0;32m    179\u001b[0m \u001b[38;5;124;03m    import urllib3 import make_headers\u001b[39;00m\n\u001b[0;32m    180\u001b[0m \n\u001b[0;32m    181\u001b[0m \u001b[38;5;124;03m    pc = Pinecone(\u001b[39;00m\n\u001b[0;32m    182\u001b[0m \u001b[38;5;124;03m        api_key='YOUR_API_KEY',\u001b[39;00m\n\u001b[0;32m    183\u001b[0m \u001b[38;5;124;03m        proxy_url='https://your-proxy.com',\u001b[39;00m\n\u001b[0;32m    184\u001b[0m \u001b[38;5;124;03m        proxy_headers=make_headers(proxy_basic_auth='username:password'),\u001b[39;00m\n\u001b[0;32m    185\u001b[0m \u001b[38;5;124;03m        ssl_ca_certs='path/to/cert-bundle.pem',\u001b[39;00m\n\u001b[0;32m    186\u001b[0m \u001b[38;5;124;03m        ssl_verify=False\u001b[39;00m\n\u001b[0;32m    187\u001b[0m \u001b[38;5;124;03m    )\u001b[39;00m\n\u001b[0;32m    188\u001b[0m \n\u001b[0;32m    189\u001b[0m \u001b[38;5;124;03m    pc.list_indexes()\u001b[39;00m\n\u001b[0;32m    190\u001b[0m \n\u001b[0;32m    191\u001b[0m \u001b[38;5;124;03m    ```\u001b[39;00m\n\u001b[0;32m    192\u001b[0m \u001b[38;5;124;03m    \"\"\"\u001b[39;00m\n\u001b[0;32m    193\u001b[0m     \u001b[38;5;28;01mif\u001b[39;00m config:\n\u001b[0;32m    194\u001b[0m         \u001b[38;5;28;01mif\u001b[39;00m \u001b[38;5;129;01mnot\u001b[39;00m \u001b[38;5;28misinstance\u001b[39m(config, Config):\n",
      "File \u001b[1;32md:\\chatbot\\medicalchatbot\\medibot\\Lib\\site-packages\\pinecone\\config\\pinecone_config.py:35\u001b[0m, in \u001b[0;36mbuild\u001b[1;34m(api_key, host, additional_headers, **kwargs)\u001b[0m\n\u001b[0;32m     31\u001b[0m     \u001b[38;5;28;01mexcept\u001b[39;00m \u001b[38;5;167;01mException\u001b[39;00m \u001b[38;5;28;01mas\u001b[39;00m e:\n\u001b[0;32m     32\u001b[0m         logger\u001b[38;5;241m.\u001b[39mwarn(\u001b[38;5;124mf\u001b[39m\u001b[38;5;124m\"\u001b[39m\u001b[38;5;124mIgnoring PINECONE_ADDITIONAL_HEADERS: \u001b[39m\u001b[38;5;132;01m{\u001b[39;00me\u001b[38;5;132;01m}\u001b[39;00m\u001b[38;5;124m\"\u001b[39m)\n\u001b[0;32m     34\u001b[0m \u001b[38;5;28;01mreturn\u001b[39;00m ConfigBuilder\u001b[38;5;241m.\u001b[39mbuild(\n\u001b[1;32m---> 35\u001b[0m     api_key\u001b[38;5;241m=\u001b[39mapi_key, host\u001b[38;5;241m=\u001b[39mhost, additional_headers\u001b[38;5;241m=\u001b[39madditional_headers, \u001b[38;5;241m*\u001b[39m\u001b[38;5;241m*\u001b[39mkwargs\n\u001b[0;32m     36\u001b[0m )\n",
      "File \u001b[1;32md:\\chatbot\\medicalchatbot\\medibot\\Lib\\site-packages\\pinecone\\config\\config.py:65\u001b[0m, in \u001b[0;36mbuild\u001b[1;34m(api_key, host, proxy_url, proxy_headers, ssl_ca_certs, ssl_verify, additional_headers, **kwargs)\u001b[0m\n\u001b[0;32m     57\u001b[0m \u001b[38;5;28;01mif\u001b[39;00m \u001b[38;5;129;01mnot\u001b[39;00m host:\n\u001b[0;32m     58\u001b[0m     \u001b[38;5;28;01mraise\u001b[39;00m PineconeConfigurationError(\u001b[38;5;124m\"\u001b[39m\u001b[38;5;124mYou haven\u001b[39m\u001b[38;5;124m'\u001b[39m\u001b[38;5;124mt specified a host.\u001b[39m\u001b[38;5;124m\"\u001b[39m)\n\u001b[0;32m     60\u001b[0m \u001b[38;5;28;01mreturn\u001b[39;00m Config(\n\u001b[0;32m     61\u001b[0m     api_key,\n\u001b[0;32m     62\u001b[0m     host,\n\u001b[0;32m     63\u001b[0m     proxy_url,\n\u001b[0;32m     64\u001b[0m     proxy_headers,\n\u001b[1;32m---> 65\u001b[0m     ssl_ca_certs,\n\u001b[0;32m     66\u001b[0m     ssl_verify,\n\u001b[0;32m     67\u001b[0m     additional_headers,\n\u001b[0;32m     68\u001b[0m     source_tag,\n\u001b[0;32m     69\u001b[0m )\n",
      "\u001b[1;31mPineconeConfigurationError\u001b[0m: You haven't specified an API key. Please either set the PINECONE_API_KEY environment variable or pass the 'api_key' keyword argument to the Pinecone client constructor."
     ]
    }
   ],
   "source": [
    "from langchain_pinecone import PineconeVectorStore\n",
    "from pinecone import Pinecone, ServerlessSpec\n",
    "import os\n",
    "\n",
    "PINE_API_KEY = os.getenv(\"PINE_API_KEY\")  # Ensure the key is set\n",
    "if not PINE_API_KEY:\n",
    "    raise ValueError(\"PINE_API_KEY is not set.\")\n",
    "api_key=PINE_API_KEY\n",
    "pc = Pinecone(api_key=api_key)\n",
    "\n",
    "docsearch = PineconeVectorStore.from_documents(\n",
    "    documents=text_chunks,\n",
    "    index_name=index_name,\n",
    "    embedding=embeddings,\n",
    "    api_key=api_key,\n",
    ")\n"
   ]
  },
  {
   "cell_type": "code",
   "execution_count": 59,
   "metadata": {},
   "outputs": [
    {
     "name": "stdout",
     "output_type": "stream",
     "text": [
      "pcsk_2fiDBP_QmAw8hqhGQz8CcV3ApcQBqMAhhbdUiGjcCMESSB5URNGEnqmUDUhTBbRYT8S1ph\n"
     ]
    }
   ],
   "source": [
    "import os\n",
    "print(os.getenv(\"PINE_API_KEY\"))"
   ]
  }
 ],
 "metadata": {
  "kernelspec": {
   "display_name": "medibot",
   "language": "python",
   "name": "python3"
  },
  "language_info": {
   "codemirror_mode": {
    "name": "ipython",
    "version": 3
   },
   "file_extension": ".py",
   "mimetype": "text/x-python",
   "name": "python",
   "nbconvert_exporter": "python",
   "pygments_lexer": "ipython3",
   "version": "3.12.4"
  }
 },
 "nbformat": 4,
 "nbformat_minor": 2
}
